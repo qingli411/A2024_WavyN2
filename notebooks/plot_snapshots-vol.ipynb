{
 "cells": [
  {
   "cell_type": "code",
   "execution_count": null,
   "id": "020a6c34-a071-45d5-b52f-057999fd36b1",
   "metadata": {
    "tags": []
   },
   "outputs": [],
   "source": [
    "import sys\n",
    "import os\n",
    "import matplotlib.pyplot as plt\n",
    "import matplotlib.gridspec as gridspec\n",
    "import numpy as np\n",
    "sys.path.append(os.path.join(os.path.pardir, 'lesview'))\n",
    "from lesview import *"
   ]
  },
  {
   "cell_type": "code",
   "execution_count": null,
   "id": "3be1be1b-4d15-4acf-85f1-60e68678cf4a",
   "metadata": {
    "tags": []
   },
   "outputs": [],
   "source": [
    "casename = 'R11_MSM97-CT_Stokes_f0'\n",
    "filename = 'fields.jld2'\n",
    "abc = 'abcde'\n",
    "figpath = 'R11_MSM97_CT_Stokes_f0'\n",
    "os.makedirs(figpath, exist_ok=True)"
   ]
  },
  {
   "cell_type": "code",
   "execution_count": null,
   "id": "a405aef5-7dad-4cc3-bbdc-2cb72033a8ba",
   "metadata": {},
   "outputs": [],
   "source": [
    "datapath = os.path.join(os.path.pardir, 'oceananigans', casename, filename)\n",
    "ds = OceananigansDataVolume(filepath=datapath).dataset"
   ]
  },
  {
   "cell_type": "code",
   "execution_count": null,
   "id": "5ca6dbe0-3720-4f16-9014-3ca636f47266",
   "metadata": {},
   "outputs": [],
   "source": [
    "ds"
   ]
  },
  {
   "cell_type": "code",
   "execution_count": null,
   "id": "b29ee9bb-aff5-4e26-9968-1cbbb53d293b",
   "metadata": {},
   "outputs": [],
   "source": [
    "ts = '2000-01-02T00:00:00'\n",
    "levels = np.linspace(-0.02, 0.02, 41)\n",
    "levels2 = np.linspace(-0.01, 0.01, 41)\n",
    "# plot figure\n",
    "fig = plt.figure(figsize=[8,3.6])\n",
    "gs = gridspec.GridSpec(3, 7)\n",
    "gs.update(left=0.1, right=0.95, top=0.92, bottom=0.15, wspace=0.25, hspace=0.25)\n",
    "ax1 = plt.subplot(gs[0:2, 0:2])\n",
    "ax2 = plt.subplot(gs[0:2, 2:4])\n",
    "ax3 = plt.subplot(gs[0:2, 4:6])\n",
    "ax4 = plt.subplot(gs[0:2, 6])\n",
    "ax5 = plt.subplot(gs[2, 0:2])\n",
    "axarr = [ax1, ax2, ax3, ax4, ax5]\n",
    "depths = [-1.5, -6, -24]\n",
    "for i in np.arange(3):\n",
    "    ax = axarr[i]\n",
    "    im = ds.data_vars['w'].sel(time=ts, zi=depths[i]).plot.contourf(ax=ax, levels=levels, extend='both', add_colorbar=False)\n",
    "    ax.set_title('$z={:g}$ m'.format(depths[i]), fontsize=10)\n",
    "    ax.set_aspect('equal')\n",
    "    ax.text(0.95, 0.05, '({:s})'.format(abc[i]), transform=ax.transAxes, va='bottom', ha='right', bbox=dict(facecolor='w', alpha=0.75, edgecolor='none'))\n",
    "    if i == 0:\n",
    "        ax.set_xlabel('')\n",
    "        ax.set_xticklabels([])\n",
    "        ax.set_ylabel('$y$ [m]')\n",
    "    else:\n",
    "        ax.set_xlabel('$x$ [m]')\n",
    "        ax.set_ylabel('')\n",
    "        ax.set_yticklabels([])\n",
    "\n",
    "\n",
    "loc0 = ax.get_position()\n",
    "ax = axarr[3]\n",
    "loc1 = ax.get_position()\n",
    "ax.set_position([loc1.x0, loc0.y0, loc1.x1-loc1.x0, loc0.y1-loc0.y0])\n",
    "ds.data_vars['w'].sel(time=ts).mean(dim='x').plot.contourf(ax=ax, levels=levels2, extend='both', add_colorbar=False, y='y')\n",
    "ax.set_title('')\n",
    "ax.set_xlabel('$z$ [m]')\n",
    "ax.set_ylabel('')\n",
    "ax.set_yticklabels([])\n",
    "ax.invert_xaxis()\n",
    "ax.set_xlim([0,-50])\n",
    "ax.text(0.9, 0.95, '$\\\\times 2$', transform=ax.transAxes, va='top', ha='right', bbox=dict(facecolor='w', alpha=0.75, edgecolor='none'))\n",
    "ax.text(0.9, 0.05, '({:s})'.format(abc[3]), transform=ax.transAxes, va='bottom', ha='right', bbox=dict(facecolor='w', alpha=0.75, edgecolor='none'))\n",
    "for dep in depths:\n",
    "    ax.axvline(x=dep, linewidth=0.75, linestyle=':', color='k')\n",
    "\n",
    "ax = axarr[4]\n",
    "ds.data_vars['w'].sel(time=ts).mean(dim='y').plot.contourf(ax=ax, levels=levels2, extend='both', add_colorbar=False, y='zi')\n",
    "ax.set_title('')\n",
    "ax.set_xlabel('$x$ [m]')\n",
    "ax.set_ylabel('$z$ [m]')\n",
    "ax.set_ylim([-50, 0])\n",
    "ax.text(0.05, 0.1, '$\\\\times 2$', transform=ax.transAxes, va='bottom', ha='left', bbox=dict(facecolor='w', alpha=0.75, edgecolor='none'))\n",
    "ax.text(0.95, 0.1, '({:s})'.format(abc[4]), transform=ax.transAxes, va='bottom', ha='right', bbox=dict(facecolor='w', alpha=0.75, edgecolor='none'))\n",
    "for dep in depths:\n",
    "    ax.axhline(y=dep, linewidth=0.75, linestyle=':', color='k')\n",
    "    \n",
    "cax = plt.axes([0.4, 0.18, 0.5, 0.03])\n",
    "cb = plt.colorbar(im, cax=cax, orientation='horizontal')\n",
    "clabels = np.linspace(levels[0], levels[-1], 5)\n",
    "cb.set_ticks(clabels) \n",
    "cb.set_label('$w$ [m s$^{-1}$]')\n",
    "\n",
    "figname = os.path.join(figpath, 'snapshots-structure-{:s}'.format(casename))\n",
    "fig.savefig(figname, dpi = 300, facecolor='w')"
   ]
  },
  {
   "cell_type": "code",
   "execution_count": null,
   "id": "23e1ad0c-ad55-481c-9f98-73ba97b1f5d6",
   "metadata": {},
   "outputs": [],
   "source": [
    "levels = np.linspace(-0.01, 0.01, 41)\n",
    "fig, axarr = plt.subplots(2, sharex='row')\n",
    "u = ds.data_vars['u'].sel(time=ts).mean(dim='y')\n",
    "u.plot.contourf(ax=axarr[0], levels=levels, extend='both', add_colorbar=True, y='z')\n",
    "(u-u.mean(dim='xi')).plot.contourf(ax=axarr[1], levels=levels, extend='both', add_colorbar=True, y='z')\n",
    "for i in np.arange(2):\n",
    "    ax = axarr[i]\n",
    "    ax.set_title('')\n",
    "    ax.set_xlabel('')\n",
    "    ax.set_ylabel('')\n",
    "    ax.set_ylim([-50, 0])\n",
    "    ax.axhline(y=-6, linewidth=0.75, linestyle=':', color='k')"
   ]
  },
  {
   "cell_type": "code",
   "execution_count": null,
   "id": "4611a16a-7a40-4247-b057-09ddb1688183",
   "metadata": {},
   "outputs": [],
   "source": [
    "omega_y = (ds.data_vars['u'].sel(time=ts).mean(dim='y').differentiate(coord='z').interp(xi=ds.x)-ds.data_vars['w'].sel(time=ts).mean(dim='y').differentiate(coord='x').interp(zi=ds.z))"
   ]
  },
  {
   "cell_type": "code",
   "execution_count": null,
   "id": "db88638e-481f-4122-ae7e-8a3a1dfa3a17",
   "metadata": {},
   "outputs": [],
   "source": [
    "levels = np.linspace(-0.006, 0.006, 41)\n",
    "fig, axarr = plt.subplots(2, sharex='row')\n",
    "omega_y.plot(ax=axarr[0], levels=levels, extend='both', add_colorbar=True, y='z')\n",
    "(omega_y-omega_y.mean(dim='x')).plot(ax=axarr[1], levels=levels, extend='both', add_colorbar=True, y='z')\n",
    "for i in np.arange(2):\n",
    "    ax = axarr[i]\n",
    "    ax.set_title('')\n",
    "    ax.set_xlabel('')\n",
    "    ax.set_ylabel('')\n",
    "    ax.set_ylim([-50, 0])\n",
    "    ax.axhline(y=-6, linewidth=0.75, linestyle=':', color='k')"
   ]
  },
  {
   "cell_type": "code",
   "execution_count": null,
   "id": "91ae3f5f-8045-43a6-9a3a-670c00ac49c5",
   "metadata": {},
   "outputs": [],
   "source": [
    "levels = np.linspace(-0.01, 0.01, 41)\n",
    "fig, axarr = plt.subplots(2, sharex='row')\n",
    "v = ds.data_vars['v'].sel(time=ts).mean(dim='yi')\n",
    "v.plot.contourf(ax=axarr[0], levels=levels, extend='both', add_colorbar=True, y='z')\n",
    "(v-v.mean(dim='x')).plot.contourf(ax=axarr[1], levels=levels, extend='both', add_colorbar=True, y='z')\n",
    "for i in np.arange(2):\n",
    "    ax = axarr[i]\n",
    "    ax.set_title('')\n",
    "    ax.set_xlabel('')\n",
    "    ax.set_ylabel('')\n",
    "    ax.set_ylim([-50, 0])\n",
    "    ax.axhline(y=-6, linewidth=0.75, linestyle=':', color='k')"
   ]
  },
  {
   "cell_type": "code",
   "execution_count": null,
   "id": "895977c4-6325-4f1c-9fdd-02d16682466d",
   "metadata": {},
   "outputs": [],
   "source": []
  }
 ],
 "metadata": {
  "kernelspec": {
   "display_name": "Python 3",
   "language": "python",
   "name": "python3"
  },
  "language_info": {
   "codemirror_mode": {
    "name": "ipython",
    "version": 3
   },
   "file_extension": ".py",
   "mimetype": "text/x-python",
   "name": "python",
   "nbconvert_exporter": "python",
   "pygments_lexer": "ipython3",
   "version": "3.9.15"
  }
 },
 "nbformat": 4,
 "nbformat_minor": 5
}
