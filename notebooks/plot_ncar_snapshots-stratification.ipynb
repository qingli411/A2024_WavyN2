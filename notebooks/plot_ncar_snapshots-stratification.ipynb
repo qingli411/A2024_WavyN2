{
 "cells": [
  {
   "cell_type": "code",
   "execution_count": null,
   "id": "020a6c34-a071-45d5-b52f-057999fd36b1",
   "metadata": {
    "tags": []
   },
   "outputs": [],
   "source": [
    "import sys\n",
    "import os\n",
    "import matplotlib.pyplot as plt\n",
    "import numpy as np\n",
    "import xarray as xr\n",
    "sys.path.append(os.path.join(os.path.pardir, 'lesview'))\n",
    "from lesview import *"
   ]
  },
  {
   "cell_type": "code",
   "execution_count": null,
   "id": "7a02568a-359e-446a-baf9-4063eb60230b",
   "metadata": {},
   "outputs": [],
   "source": [
    "casenames = dict(\n",
    "    c1  = 'R11_MSM97-CT05_f0_fixdt3',\n",
    "    c2  = 'R11_MSM97-CT05_Stokes6_f0_fixdt3',\n",
    "    c3  = 'R11_MSM97-CT05_Stokes_f0_fixdt3',\n",
    "    c5  = 'R11_MSM97-CT_f0_fixdt3',\n",
    "    c6  = 'R11_MSM97-CT_Stokes6_f0_fixdt3',\n",
    "    c7  = 'R11_MSM97-CT_Stokes_f0_fixdt3',\n",
    ")\n",
    "iends = dict(\n",
    "    c1 = 28800,\n",
    "    c2 = 28800,\n",
    "    c3 = 28800,\n",
    "    c5 = 57600,\n",
    "    c6 = 57600,\n",
    "    c7 = 57600,)\n",
    "snapshot = '2000-01-02T00:00:00'\n",
    "abc = 'abcdefgh'\n",
    "figpath = 'R11_MSM97_CT_Stokes_f0'\n",
    "os.makedirs(figpath, exist_ok=True)"
   ]
  },
  {
   "cell_type": "code",
   "execution_count": null,
   "id": "370f50b5-0c94-4e47-9998-a9d0e8e20ea7",
   "metadata": {},
   "outputs": [],
   "source": [
    "var = 'w'\n",
    "da = {}\n",
    "for cn in casenames.keys():\n",
    "    print(cn)\n",
    "    datapath = os.path.join(os.path.pardir, 'ncarles', casenames[cn], 'viz.vis.000000.{:06d}.xy.nc'.format(iends[cn]))\n",
    "    da[cn] = NCARLESDataVolume(filepath=datapath, fieldname=var).dataset.data_vars[var].isel(nslc=1)"
   ]
  },
  {
   "cell_type": "code",
   "execution_count": null,
   "id": "2e5b848b-db3d-4b55-a91e-726185871322",
   "metadata": {},
   "outputs": [],
   "source": [
    "levels = np.linspace(-0.02, 0.02, 41)\n",
    "nrow = 1\n",
    "ncol = 3\n",
    "titles = ['$a$ = {:4.2f} m'.format(amp) for amp in [0,0.45,0.8,1.42]]\n",
    "labels = ['5 W m$^{-2}$','50 W m$^{-2}$']\n",
    "fig, axarr = plt.subplots(nrow, ncol, sharex='col', sharey='row')\n",
    "fig.set_size_inches(6.5,3.5)\n",
    "for i, cn in enumerate(['c5', 'c6', 'c7']):\n",
    "    # m = i//ncol\n",
    "    # n = i%ncol\n",
    "    # ax = axarr[m,n]\n",
    "    ax = axarr[i]\n",
    "    im = xr.plot.contourf(da[cn].sel(time=snapshot, method='nearest'), ax=ax, y='y', levels=levels, extend='both', add_colorbar=False)\n",
    "    ax.set_title('')\n",
    "    ax.set_xlabel('')\n",
    "    ax.set_ylabel('')\n",
    "    ax.set_aspect('equal')\n",
    "    ax.text(0.05, 0.05, '({:s})'.format(abc[i]), transform=ax.transAxes, va='bottom', ha='left', bbox=dict(facecolor='w', alpha=0.75, edgecolor='none'))\n",
    "    ax.set_title(titles[i], fontsize=10)\n",
    "    ax.set_xlabel('$x$ [m]')\n",
    "    if i == 0:\n",
    "        ax.set_ylabel('$y$ [m]')\n",
    "\n",
    "plt.subplots_adjust(top=0.95, bottom=0.28, left=0.1, right=0.97, hspace=0.05, wspace=0.06)\n",
    "\n",
    "cax = plt.axes([0.25, 0.18, 0.5, 0.03])\n",
    "cb = plt.colorbar(im, cax=cax, orientation='horizontal')\n",
    "clabels = np.linspace(levels[0], levels[-1], 5)\n",
    "cb.set_ticks(clabels) \n",
    "cb.set_label('$w$ [m s$^{-1}$]')\n",
    "\n",
    "figname = os.path.join(figpath, 'snapshots-ncar-stratification_v2')\n",
    "fig.savefig(figname, dpi = 300, facecolor='w')"
   ]
  },
  {
   "cell_type": "code",
   "execution_count": null,
   "id": "3be1be1b-4d15-4acf-85f1-60e68678cf4a",
   "metadata": {
    "tags": []
   },
   "outputs": [],
   "source": [
    "levels = np.linspace(-0.02, 0.02, 41)\n",
    "levels = [np.linspace(-0.01, 0.01, 41), np.linspace(-0.02, 0.02, 41)]\n",
    "nrow = 2\n",
    "ncol = 3\n",
    "titles = ['$a$ = {:4.2f} m'.format(amp) for amp in [0,0.45,0.8,1.42]]\n",
    "labels = ['5 W m$^{-2}$','50 W m$^{-2}$']\n",
    "fig, axarr = plt.subplots(nrow, ncol, sharex='col', sharey='row')\n",
    "fig.set_size_inches(6.5,5.5)\n",
    "for i, cn in enumerate(casenames.keys()):\n",
    "    m = i//ncol\n",
    "    n = i%ncol\n",
    "    ax = axarr[m,n]\n",
    "    # ax = axarr[i]\n",
    "    im = xr.plot.contourf(da[cn].sel(time=snapshot, method='nearest'), ax=ax, y='y', levels=levels[m], extend='both', add_colorbar=False)\n",
    "    ax.set_title('')\n",
    "    ax.set_xlabel('')\n",
    "    ax.set_ylabel('')\n",
    "    ax.set_aspect('equal')\n",
    "    lb = '({:s})'.format(abc[i])\n",
    "    if n == 0:\n",
    "        lb = '{:s} {:s}'.format(lb, labels[m])\n",
    "    ax.text(0.05, 0.05, lb, transform=ax.transAxes, va='bottom', ha='left', bbox=dict(facecolor='w', alpha=0.75, edgecolor='none'))\n",
    "\n",
    "ax = axarr[0,0]\n",
    "ax.text(0.05, 0.95, '$\\\\times 2$', transform=ax.transAxes, va='top', ha='left', bbox=dict(facecolor='w', alpha=0.75, edgecolor='none'))\n",
    "\n",
    "for i in np.arange(nrow):\n",
    "    ax = axarr[i, 0]\n",
    "    ax.set_ylabel('$y$ [m]')\n",
    "\n",
    "for j in np.arange(ncol):\n",
    "    ax = axarr[0, j]\n",
    "    ax.set_title(titles[j], fontsize=10)\n",
    "    ax = axarr[1, j]\n",
    "    ax.set_xlabel('$x$ [m]')\n",
    "\n",
    "plt.subplots_adjust(top=0.95, bottom=0.24, left=0.11, right=0.98, hspace=0.05, wspace=0.06)\n",
    "\n",
    "cax = plt.axes([0.25, 0.11, 0.5, 0.015])\n",
    "cb = plt.colorbar(im, cax=cax, orientation='horizontal')\n",
    "clabels = np.linspace(levels[1][0], levels[1][-1], 5)\n",
    "cb.set_ticks(clabels) \n",
    "cb.set_label('$w$ [m s$^{-1}$]')\n",
    "\n",
    "figname = os.path.join(figpath, 'snapshots-ncar-stratification_v3')\n",
    "fig.savefig(figname, dpi = 300, facecolor='w')"
   ]
  },
  {
   "cell_type": "code",
   "execution_count": null,
   "id": "b22adbf5-e2fd-47bf-af84-4ef2bfd4e9c4",
   "metadata": {},
   "outputs": [],
   "source": []
  }
 ],
 "metadata": {
  "kernelspec": {
   "display_name": "Python 3",
   "language": "python",
   "name": "python3"
  },
  "language_info": {
   "codemirror_mode": {
    "name": "ipython",
    "version": 3
   },
   "file_extension": ".py",
   "mimetype": "text/x-python",
   "name": "python",
   "nbconvert_exporter": "python",
   "pygments_lexer": "ipython3",
   "version": "3.9.15"
  }
 },
 "nbformat": 4,
 "nbformat_minor": 5
}
